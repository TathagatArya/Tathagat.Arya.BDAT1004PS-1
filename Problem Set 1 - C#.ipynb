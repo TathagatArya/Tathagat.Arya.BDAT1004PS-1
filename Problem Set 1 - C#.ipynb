{
 "cells": [
  {
   "cell_type": "markdown",
   "id": "cf2c22a9",
   "metadata": {},
   "source": [
    " <h4>Question 1</h4>"
   ]
  },
  {
   "cell_type": "markdown",
   "id": "9aca523a",
   "metadata": {},
   "source": [
    "<p>1. Integer</p>\n",
    "<p>2. Float</p>\n",
    "<p>3. Boolean</p>\n",
    "<p>4. Character</p>\n",
    "<p>5. Integer</p>\n",
    "<p>6. Integer</p>\n",
    "<p>7. Integer</p>\n",
    "<p>8. Integer</p>\n",
    "<p>9. Integer</p>\n",
    "<p>10. Array</p>\n",
    "<p>11. Boolean</p>\n",
    "<p>12. Double</p>"
   ]
  },
  {
   "cell_type": "markdown",
   "id": "c85ec9b2",
   "metadata": {},
   "source": [
    " <h4>Question 2</h4>"
   ]
  },
  {
   "cell_type": "markdown",
   "id": "c7c643ca",
   "metadata": {},
   "source": [
    " <h4>a.</h4>"
   ]
  },
  {
   "cell_type": "code",
   "execution_count": 18,
   "id": "32723483",
   "metadata": {},
   "outputs": [
    {
     "name": "stdout",
     "output_type": "stream",
     "text": [
      "To find number of letters in the word 'Supercalifragilisticexpialidocious'\n",
      "The above word has 34 letters"
     ]
    }
   ],
   "source": [
    "Console.Write(\"To find number of letters in the word 'Supercalifragilisticexpialidocious'\");\n",
    "string name = \"Supercalifragilisticexpialidocious\";\n",
    "int n = 0;\n",
    "foreach (char c in name)\n",
    "{\n",
    "    n++;\n",
    "}\n",
    "Console.Write(\"\\nThe above word has \"+n+\" letters\")"
   ]
  },
  {
   "cell_type": "markdown",
   "id": "a45edc05",
   "metadata": {},
   "source": [
    " <h4>b.</h4>"
   ]
  },
  {
   "cell_type": "code",
   "execution_count": 25,
   "id": "ec87b93c",
   "metadata": {},
   "outputs": [
    {
     "name": "stdout",
     "output_type": "stream",
     "text": [
      "Does string contain specified substring? True"
     ]
    }
   ],
   "source": [
    "String str = \"Supercalifragilisticexpialidocious\";\n",
    "String strfind = \"ice\";\n",
    "Boolean result = str.Contains(strfind);\n",
    "Console.Write($\"Does string contain specified substring? {result}\");"
   ]
  },
  {
   "cell_type": "markdown",
   "id": "62eb73b2",
   "metadata": {},
   "source": [
    " <h4>c.</h4>"
   ]
  },
  {
   "cell_type": "code",
   "execution_count": 26,
   "id": "7da58a23",
   "metadata": {},
   "outputs": [
    {
     "name": "stdout",
     "output_type": "stream",
     "text": [
      "To find which word is the longest\n",
      "1. Supercalifragilisticexpialidocious\n",
      "2. Honorificabilitudinitatibus\n",
      "3. Bababadalgharaghtakamminarronnkonn\n",
      "\n",
      "Supercalifragilisticexpialidocious is the biggest with 34 characters"
     ]
    }
   ],
   "source": [
    "Console.WriteLine(\"To find which word is the longest\");\n",
    "Console.WriteLine(\"1. Supercalifragilisticexpialidocious\\n2. Honorificabilitudinitatibus\\n3. Bababadalgharaghtakamminarronnkonn\\n\");\n",
    "string word1 = \"Supercalifragilisticexpialidocious\"; int x;\n",
    "string word2 = \"Honorificabilitudinitatibus\"; int y;\n",
    "string word3 = \"Bababadalgharaghtakamminarronnkonn\"; int z;\n",
    "foreach (char c in word1) { x++; }\n",
    "foreach (char c in word2) { y++; }\n",
    "foreach (char c in word3) { z++; }\n",
    "if(x>=y && x>=z) \n",
    "{\n",
    "    Console.Write(word1+\" is the biggest with \"+x+\" characters\");\n",
    "}\n",
    "else if(y>=x && y>=z) \n",
    "{\n",
    "    Console.Write(word2+\" is the biggest with \"+y+\" characters\");\n",
    "}\n",
    "else if(z>=x && z>=y) \n",
    "{\n",
    "    Console.Write(word3+\" is the biggest with \"+z+\" characters\");\n",
    "}"
   ]
  },
  {
   "cell_type": "markdown",
   "id": "e224f6c0",
   "metadata": {},
   "source": [
    " <h4>d.</h4>"
   ]
  },
  {
   "cell_type": "code",
   "execution_count": 29,
   "id": "90e8a7f8",
   "metadata": {},
   "outputs": [
    {
     "name": "stdout",
     "output_type": "stream",
     "text": [
      "First in the dictionary: Bartok\n",
      "Last in the dictionary: Buxtehude"
     ]
    }
   ],
   "source": [
    "string[] composer = {\"Berlioz\", \"Borodin\", \"Brian\", \"Bartok\", \"Bellini\", \"Buxtehude\", \"Bernstein\"};\n",
    "Array.Sort<string>(composer);\n",
    "Console.Write(\"First in the dictionary: \"+composer[0]);\n",
    "Console.Write(\"\\nLast in the dictionary: \"+composer[6]);"
   ]
  },
  {
   "cell_type": "markdown",
   "id": "d90985a1",
   "metadata": {},
   "source": [
    " <h4>Question 3</h4>"
   ]
  },
  {
   "cell_type": "code",
   "execution_count": 30,
   "id": "0f3772d9",
   "metadata": {},
   "outputs": [
    {
     "name": "stdout",
     "output_type": "stream",
     "text": [
      "To calculate the area of a triangle\n",
      "\n",
      "Sides of triangle are as follows:\n",
      "Side a : 2\n",
      "Side b : 2\n",
      "Side c : 2\n",
      "\n",
      "Area of the traingle is 1.7320508075688772"
     ]
    }
   ],
   "source": [
    "double triangleArea(double a,double b,double c)\n",
    "{\n",
    "    double s = (a + b + c) / 2;\n",
    "    double area = Math.Sqrt(s * (s - a) * (s - b) * (s - c));\n",
    "    return area;\n",
    "}\n",
    "\n",
    "Console.WriteLine(\"To calculate the area of a triangle\");\n",
    "Console.WriteLine(\"\\nSides of triangle are as follows:\");\n",
    "double x = 2, y = 2, z = 2;\n",
    "Console.Write(\"Side a : \"+x);\n",
    "Console.Write(\"\\nSide b : \"+y);\n",
    "Console.Write(\"\\nSide c : \"+z);\n",
    "double areaoftriangle = triangleArea(x, y, z);\n",
    "Console.Write(\"\\n\\nArea of the traingle is \"+areaoftriangle);"
   ]
  },
  {
   "cell_type": "markdown",
   "id": "fda2d490",
   "metadata": {},
   "source": [
    " <h4>Question 4</h4>"
   ]
  },
  {
   "cell_type": "code",
   "execution_count": 31,
   "id": "35fc5f32",
   "metadata": {},
   "outputs": [
    {
     "name": "stdout",
     "output_type": "stream",
     "text": [
      "To separate odd and even integers in separate arrays\n",
      "Input the number of elements to be stored in the array : \n",
      "The Even elements are : \n",
      "The Odd elements are : "
     ]
    }
   ],
   "source": [
    "Console.WriteLine(\"To separate odd and even integers in separate arrays\");\n",
    "Console.Write(\"Input the number of elements to be stored in the array : \");\n",
    "int n = Convert.ToInt32(Console.ReadLine());\n",
    "int[] number = new int[n];\n",
    "int[] odd = new int[n];\n",
    "int[] even = new int[n];\n",
    "for (int i = 0; i < n; i++)\n",
    "{\n",
    "    Console.Write(\"\\nEnter element \" + (i + 1) + \" : \");\n",
    "    number[i] = Convert.ToInt32(Console.In.ReadLine());\n",
    "    if (number[i] % 2 == 0)\n",
    "    {\n",
    "        even[i] = number[i];\n",
    "        odd[i] = 0;\n",
    "    }\n",
    "    else\n",
    "    {\n",
    "        odd[i] = number[i];\n",
    "        even[i] = 0;\n",
    "    }\n",
    "}\n",
    "Console.Write(\"\\nThe Even elements are : \");\n",
    "for (int i = 0; i < n; i++)\n",
    "{\n",
    "    if (even[i] != 0)\n",
    "        Console.Write(even[i] + \" \");\n",
    "}\n",
    "Console.Write(\"\\nThe Odd elements are : \");\n",
    "for (int i = 0; i < n; i++)\n",
    "{\n",
    "    if (odd[i] != 0)\n",
    "        Console.Write(odd[i] + \" \");\n",
    "}"
   ]
  },
  {
   "cell_type": "markdown",
   "id": "869424f5",
   "metadata": {},
   "source": [
    "<p>\n",
    "To separate odd and even integers in separate arrays\n",
    "    \n",
    "Input the number of elements to be stored in the array : 5\n",
    "\n",
    "Enter element 1 : 25\n",
    "    \n",
    "Enter element 2 : 47\n",
    "    \n",
    "Enter element 3 : 42\n",
    "    \n",
    "Enter element 4 : 56\n",
    "    \n",
    "Enter element 5 : 32\n",
    "\n",
    "The Even elements are : 42 56 32\n",
    "\n",
    "The Odd elements are : 25 47\n",
    "</p>"
   ]
  },
  {
   "attachments": {
    "Screenshot%202022-02-07%20172255.jpg": {
     "image/jpeg": "[encoded data removed]"
    }
   },
   "cell_type": "markdown",
   "id": "7cbb86df",
   "metadata": {},
   "source": [
    "![Screenshot%202022-02-07%20172255.jpg](attachment:Screenshot%202022-02-07%20172255.jpg)"
   ]
  },
  {
   "cell_type": "markdown",
   "id": "cd62f252",
   "metadata": {},
   "source": [
    " <h4>Question 5</h4>"
   ]
  },
  {
   "cell_type": "markdown",
   "id": "c6fad950",
   "metadata": {},
   "source": [
    " <h4>a.</h4>"
   ]
  },
  {
   "cell_type": "code",
   "execution_count": 36,
   "id": "c0d713de",
   "metadata": {},
   "outputs": [
    {
     "name": "stdout",
     "output_type": "stream",
     "text": [
      "To find whether the point (x,y) lies in the rectangle with lower left corner(x1, y1) and upper right corner(x2, y2)\n",
      "Case 1\n",
      "\n",
      "Value of x : 1\n",
      "Value of y : 1\n",
      "Value of x1 : 0\n",
      "Value of y1 : 0\n",
      "Value of x2 : 2\n",
      "Value of y2 : 3\n",
      "TrueHello Sarah\n",
      "\n",
      "Case 2\n",
      "\n",
      "Value of x : -1\n",
      "Value of y : -1\n",
      "Value of x1 : 0\n",
      "Value of y1 : 0\n",
      "Value of x2 : 2\n",
      "Value of y2 : 3\n",
      "False"
     ]
    }
   ],
   "source": [
    "bool inside(int x,int y,int x1,int y1,int x2,int y2)\n",
    "{\n",
    "    if (x>x1 && x<x2 && y>y1 && y<y2)\n",
    "    {\n",
    "        return true;\n",
    "    }\n",
    "    else\n",
    "    {\n",
    "        return false;\n",
    "    }\n",
    "}\n",
    "Console.WriteLine(\"To find whether the point (x,y) lies in the rectangle with lower left corner(x1, y1) and upper right corner(x2, y2)\");\n",
    "{\n",
    "    Console.Write(\"Case 1\\n\");\n",
    "    int x = 1, y = 1, x1 = 0, y1 = 0, x2 = 2, y2 = 3;\n",
    "    Console.Write(\"\\nValue of x : \"+x);\n",
    "    Console.Write(\"\\nValue of y : \"+y);\n",
    "    Console.Write(\"\\nValue of x1 : \"+x1);\n",
    "    Console.Write(\"\\nValue of y1 : \"+y1);\n",
    "    Console.Write(\"\\nValue of x2 : \"+x2);\n",
    "    Console.Write(\"\\nValue of y2 : \"+y2);\n",
    "    if (inside(x, y, x1, y1, x2, y2))\n",
    "    {\n",
    "        Console.Write(\"\\nTrue\");\n",
    "    }\n",
    "    else\n",
    "    {\n",
    "        Console.Write(\"\\nFalse\");\n",
    "    }\n",
    "    Console.Write(\"\\n\\nCase 2\\n\");\n",
    "    x = -1; y = -1; x1 = 0; y1 = 0; x2 = 2; y2 = 3;\n",
    "    Console.Write(\"\\nValue of x : \" + x);\n",
    "    Console.Write(\"\\nValue of y : \" + y);\n",
    "    Console.Write(\"\\nValue of x1 : \" + x1);\n",
    "    Console.Write(\"\\nValue of y1 : \" + y1);\n",
    "    Console.Write(\"\\nValue of x2 : \" + x2);\n",
    "    Console.Write(\"\\nValue of y2 : \" + y2);\n",
    "    if (inside(x, y, x1, y1, x2, y2))\n",
    "    {\n",
    "        Console.Write(\"\\nTrue\");\n",
    "    }\n",
    "    else\n",
    "    {\n",
    "        Console.Write(\"\\nFalse\");\n",
    "    }\n",
    "}"
   ]
  },
  {
   "cell_type": "markdown",
   "id": "e7bf5061",
   "metadata": {},
   "source": [
    " <h4>b.</h4>"
   ]
  },
  {
   "cell_type": "code",
   "execution_count": 38,
   "id": "1e2382bf",
   "metadata": {},
   "outputs": [
    {
     "name": "stdout",
     "output_type": "stream",
     "text": [
      "To find whether the point (x,y) lies in the rectangle with lower left corner(x1, y1) and upper right corner(x2, y2)\n",
      "Case 1\n",
      "\n",
      "Value of x : 1\n",
      "Value of y : 1\n",
      "Value of x1 : 0.3\n",
      "Value of y1 : 0.5\n",
      "Value of x2 : 1.1\n",
      "Value of y2 : 0.7\n",
      "False\n",
      "\n",
      "Case 2\n",
      "\n",
      "Value of x : 1\n",
      "Value of y : 1\n",
      "Value of x1 : 0.5\n",
      "Value of y1 : 0.2\n",
      "Value of x2 : 1.1\n",
      "Value of y2 : 2\n",
      "True"
     ]
    }
   ],
   "source": [
    "bool inside(double x,double y,double x1,double y1,double x2,double y2)\n",
    "{\n",
    "    if (x>x1 && x<x2 && y>y1 && y<y2)\n",
    "    {\n",
    "        return true;\n",
    "    }\n",
    "    else\n",
    "    {\n",
    "        return false;\n",
    "    }\n",
    "}\n",
    "Console.WriteLine(\"To find whether the point (x,y) lies in the rectangle with lower left corner(x1, y1) and upper right corner(x2, y2)\");\n",
    "{\n",
    "    Console.Write(\"Case 1\\n\");\n",
    "    double x = 1, y = 1, x1 = 0.3, y1 = 0.5, x2 = 1.1, y2 = 0.7;\n",
    "    Console.Write(\"\\nValue of x : \"+x);\n",
    "    Console.Write(\"\\nValue of y : \"+y);\n",
    "    Console.Write(\"\\nValue of x1 : \"+x1);\n",
    "    Console.Write(\"\\nValue of y1 : \"+y1);\n",
    "    Console.Write(\"\\nValue of x2 : \"+x2);\n",
    "    Console.Write(\"\\nValue of y2 : \"+y2);\n",
    "    if (inside(x, y, x1, y1, x2, y2))\n",
    "    {\n",
    "        Console.Write(\"\\nTrue\");\n",
    "    }\n",
    "    else\n",
    "    {\n",
    "        Console.Write(\"\\nFalse\");\n",
    "    }\n",
    "    Console.Write(\"\\n\\nCase 2\\n\");\n",
    "    x = 1; y = 1; x1 = 0.5; y1 = 0.2; x2 = 1.1; y2 = 2;\n",
    "    Console.Write(\"\\nValue of x : \" + x);\n",
    "    Console.Write(\"\\nValue of y : \" + y);\n",
    "    Console.Write(\"\\nValue of x1 : \" + x1);\n",
    "    Console.Write(\"\\nValue of y1 : \" + y1);\n",
    "    Console.Write(\"\\nValue of x2 : \" + x2);\n",
    "    Console.Write(\"\\nValue of y2 : \" + y2);\n",
    "    if (inside(x, y, x1, y1, x2, y2))\n",
    "    {\n",
    "        Console.Write(\"\\nTrue\");\n",
    "    }\n",
    "    else\n",
    "    {\n",
    "        Console.Write(\"\\nFalse\");\n",
    "    }\n",
    "}"
   ]
  }
 ],
 "metadata": {
  "kernelspec": {
   "display_name": ".NET (C#)",
   "language": "C#",
   "name": ".net-csharp"
  },
  "language_info": {
   "file_extension": ".cs",
   "mimetype": "text/x-csharp",
   "name": "C#",
   "pygments_lexer": "csharp",
   "version": "8.0"
  }
 },
 "nbformat": 4,
 "nbformat_minor": 5
}
