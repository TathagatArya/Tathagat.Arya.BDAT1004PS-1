{
 "cells": [
  {
   "cell_type": "markdown",
   "id": "45656be1",
   "metadata": {},
   "source": [
    " <h4>Question 6</h4>"
   ]
  },
  {
   "cell_type": "code",
   "execution_count": 45,
   "id": "7d2faccb",
   "metadata": {},
   "outputs": [
    {
     "name": "stdout",
     "output_type": "stream",
     "text": [
      "appyhay\n",
      "enterway\n"
     ]
    }
   ],
   "source": [
    "def pig(word):\n",
    "    if (word[0].lower() in 'aeiou'):\n",
    "        print(word.lower() + 'way')\n",
    "    else:\n",
    "        x = \"\"\n",
    "        for i in range(1,len(word)):\n",
    "            x = x+word[i]\n",
    "        x = x + word[0]\n",
    "        print(x.lower()+\"ay\")\n",
    "    \n",
    "pig(\"happy\")\n",
    "pig(\"Enter\")"
   ]
  },
  {
   "cell_type": "markdown",
   "id": "79001a8c",
   "metadata": {},
   "source": [
    " <h4>Question 7</h4>"
   ]
  },
  {
   "cell_type": "code",
   "execution_count": 26,
   "id": "c0520e83",
   "metadata": {},
   "outputs": [
    {
     "name": "stdout",
     "output_type": "stream",
     "text": [
      "Records of blood-types of patients at a clinic\n",
      "\n",
      "There are 15 patients of blood type A \n",
      "There are 1 patients of blood type  B\n",
      "There are 13 patients of blood type AB\n",
      "There are 15 patients of blood type O \n",
      "There are 0 patients of blood type OO \n"
     ]
    }
   ],
   "source": [
    "def bldcount(type):\n",
    "    bloodtype = open(\"C:\\\\Users\\\\tatha\\\\Downloads\\\\bloodtype1.txt\", \"r\")\n",
    "    data = bloodtype.read()\n",
    "    count = data.count(type)\n",
    "    print(\"There are\",count,\"patients of blood type\",type)\n",
    "\n",
    "print(\"Records of blood-types of patients at a clinic\\n\")\n",
    "bldcount(\"A \")\n",
    "bldcount(\" B\")\n",
    "bldcount(\"AB\")\n",
    "bldcount(\"O \")\n",
    "bldcount(\"OO \")"
   ]
  },
  {
   "cell_type": "markdown",
   "id": "53767e2f",
   "metadata": {},
   "source": [
    " <h4>Question 8</h4>"
   ]
  },
  {
   "cell_type": "code",
   "execution_count": 44,
   "id": "9f51cda2",
   "metadata": {},
   "outputs": [
    {
     "name": "stdout",
     "output_type": "stream",
     "text": [
      "122.96544\n",
      "1.241401\n"
     ]
    }
   ],
   "source": [
    "def curconv(currency,amount):\n",
    "    file = open(\"C:\\\\Users\\\\tatha\\\\Downloads\\\\currencies.txt\",\"r\")\n",
    "    data = file.readlines()    \n",
    "    for i in data:\n",
    "        i = i.split(\"\\t\")\n",
    "        if(i[0] == currency):\n",
    "            print(float(i[1])*amount)\n",
    "               \n",
    "\n",
    "curconv('EUR',100)\n",
    "curconv('JPY',100)"
   ]
  },
  {
   "cell_type": "markdown",
   "id": "ccb142ee",
   "metadata": {},
   "source": [
    " <h4>Question 9</h4>"
   ]
  },
  {
   "cell_type": "markdown",
   "id": "9bdd644e",
   "metadata": {},
   "source": [
    "<p>1. Unsupported operand type for 'int' and 'str' since integer values cannot be subtracted from string values and vice versa.</p>\n",
    "<p>2. List index will be out of range so it will not be able to display anything.</p>\n",
    "<p>3. Math domain error as we used a number that is not supported by a mathematical operation.</p>\n",
    "<p>4. The variable name x is used and Python has not seen an assignment statement for this variable so there will be a NameError where 'x' is not defined</p>\n",
    "<p>5. No such file or directory found.</p>"
   ]
  },
  {
   "cell_type": "markdown",
   "id": "a1ef08fa",
   "metadata": {},
   "source": [
    " <h4>Question 10</h4>"
   ]
  },
  {
   "cell_type": "code",
   "execution_count": 49,
   "id": "9766bf7c",
   "metadata": {},
   "outputs": [
    {
     "name": "stdout",
     "output_type": "stream",
     "text": [
      "{'T': 1, 'h': 2, 'e': 5, ' ': 8, 'q': 1, 'u': 1, 'i': 1, 'c': 1, 'k': 1, 'r': 2, 'd': 3, 'f': 1, 'o': 4, 'x': 1, 'g': 1, 't': 2, 'b': 1, 'a': 1, 'n': 2, 'w': 1, 'm': 1, '.': 1}\n",
      "\n",
      "{'a': 1, 'p': 2, 'l': 1, 'e': 1}\n",
      "\n"
     ]
    }
   ],
   "source": [
    "def frequencies(word):\n",
    "    freq = {}\n",
    "    for i in word:\n",
    "        if i in freq:\n",
    "            freq[i] += 1\n",
    "        else:\n",
    "            freq[i] = 1\n",
    "    print (str(freq)+\"\\n\")   \n",
    "\n",
    "frequencies('The quick red fox got bored and went home.')\n",
    "frequencies('apple')"
   ]
  }
 ],
 "metadata": {
  "kernelspec": {
   "display_name": "Python 3 (ipykernel)",
   "language": "python",
   "name": "python3"
  },
  "language_info": {
   "codemirror_mode": {
    "name": "ipython",
    "version": 3
   },
   "file_extension": ".py",
   "mimetype": "text/x-python",
   "name": "python",
   "nbconvert_exporter": "python",
   "pygments_lexer": "ipython3",
   "version": "3.9.7"
  }
 },
 "nbformat": 4,
 "nbformat_minor": 5
}
